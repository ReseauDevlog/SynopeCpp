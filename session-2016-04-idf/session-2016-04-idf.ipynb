{
 "cells": [
  {
   "cell_type": "markdown",
   "metadata": {
    "slideshow": {
     "slide_type": "-"
    }
   },
   "source": [
    "*Ce notebook est distribué par Devlog sous licence Creative Commons - Attribution - Pas d’Utilisation Commerciale - Partage dans les Mêmes Conditions. La description complète de la license est disponible à l'adresse web http://creativecommons.org/licenses/by-nc-sa/4.0/.*"
   ]
  },
  {
   "cell_type": "markdown",
   "metadata": {
    "slideshow": {
     "slide_type": "slide"
    }
   },
   "source": [
    "# Initiation à C++, printemps 2016, Ile-de-France\n",
    "\n",
    "Ensemble de formations organisées en coopération avec les réseaux LoOPS, le pôle formation du Service Mutualisé d’Ile-de-France du CNRS, et l'Ecole Polytechnique.\n",
    "\n",
    "<img src=\"img/logo-cpp.jpg\" />"
   ]
  },
  {
   "cell_type": "markdown",
   "metadata": {
    "slideshow": {
     "slide_type": "slide"
    }
   },
   "source": [
    "## Formateurs\n",
    "\n",
    "| Où |  Quand | Qui |\n",
    "|----|--------|-----|\n",
    "| Gif | Avril | David Chamont & Vincent Rouvreau  |\n",
    "| Palaiseau | Mai | David Chamont & Vincent Rouvreau |"
   ]
  },
  {
   "cell_type": "markdown",
   "metadata": {
    "slideshow": {
     "slide_type": "slide"
    }
   },
   "source": [
    "## Auteurs\n",
    "\n",
    "Vous trouverez à la fin de chaque notebook des informations sur les auteurs\n",
    "historiques des modules, et les contributeurs ultérieurs. L'ensemble a été\n",
    "initié dans le cadre du projet \"Synopé\", par David Chamont et Vincent Rouvreau,\n",
    "du réseau LoOPS."
   ]
  },
  {
   "cell_type": "markdown",
   "metadata": {
    "slideshow": {
     "slide_type": "slide"
    }
   },
   "source": [
    "## Plan par demi-journées\n",
    "\n",
    "1. Les bases : intro, variables, types, fonctions.\n",
    "2. Côté système d'exploitation : modules, paquets et distribution.\n",
    "3. La programmation orientée objet.\n",
    "4. Outillage et bonnes pratiques : style, tests, journalisation, , documentation, argparse, Python 2 vs 3.\n",
    "5. Calcul : numpy et matplotlib.\n",
    "6. Mini-projet autour du billard."
   ]
  },
  {
   "cell_type": "markdown",
   "metadata": {},
   "source": [
    "## Environnement technique : notebooks\n",
    "\n",
    "Les présentations théoriques reposent sur l'utilisation de notebooks tels que celui-ci. A condition de lancer ces notebooks de façon appropriée (commande 'root --notebook' dans le répertoire racine), vous pouvez exécuter les exemples de façon interactive, les modifier, éditer le notebook pour ajouter vos propres commentaires et sauvegarder votre version modifiée.\n",
    "\n",
    "Toutes les commandes se partagent la même session sur le même \"kernel\" root. Parfois il faut redémarrer le kernel (rare)."
   ]
  },
  {
   "cell_type": "markdown",
   "metadata": {},
   "source": [
    "## Environnement technique : Binder\n",
    "\n",
    "Pour éviter d'avoir à lancer un kernel Python sur votre machibe locale, et d'affronter d'éventuels problèmes d'installation, vous êtes invités à exécuter les notebooks à travers le site \"Binder\", qui va le faire pour vous au sein de machines virtuelles distantes :\n",
    "\n",
    "1. rendez-vous sur \"https://github.com/ReseauDevlog/SynopeCpp\"\n",
    "2. cliquez sur le bouton \"launch binder\".\n",
    "\n",
    "Pour vérifier que votre notebook réussit à exécuter du code C++, essayer d'exécuter la cellule ci-dessous."
   ]
  },
  {
   "cell_type": "code",
   "execution_count": 2,
   "metadata": {
    "collapsed": false
   },
   "outputs": [
    {
     "ename": "SyntaxError",
     "evalue": "invalid syntax (<ipython-input-2-5ad3a5eed632>, line 1)",
     "output_type": "error",
     "traceback": [
      "\u001b[0;36m  File \u001b[0;32m\"<ipython-input-2-5ad3a5eed632>\"\u001b[0;36m, line \u001b[0;32m1\u001b[0m\n\u001b[0;31m    std::cout<<\"Hello World !\"<<std::endl ;\u001b[0m\n\u001b[0m       ^\u001b[0m\n\u001b[0;31mSyntaxError\u001b[0m\u001b[0;31m:\u001b[0m invalid syntax\n"
     ]
    }
   ],
   "source": [
    "std::cout<<\"Hello World !\"<<std::endl ;"
   ]
  },
  {
   "cell_type": "markdown",
   "metadata": {
    "slideshow": {
     "slide_type": "-"
    }
   },
   "source": [
    "## Environnement technique : Gcc 5\n",
    "\n",
    "Pour les besoins des travaux pratiques, vous compilerez vos fichiers avec g++ en evrsion 5. Pour l'édition, ..."
   ]
  },
  {
   "cell_type": "markdown",
   "metadata": {},
   "source": [
    "## Les différentes versions de C++\n",
    "\n",
    "Le comité de normalisation de C++ a publié une nouvelle version majeure en 2011, complétée par des corrections en 2014. Nous avons choisi de vous initier à ce C++ \"moderne\", qui apporte beaucoup de nouveautés et sonne le renouveau du langage."
   ]
  },
  {
   "cell_type": "markdown",
   "metadata": {
    "collapsed": true,
    "slideshow": {
     "slide_type": "slide"
    }
   },
   "source": [
    "## A suivre...\n",
    "\n",
    "[Introduction à Python](synope_fonctions_1_intro.ipynb)"
   ]
  },
  {
   "cell_type": "markdown",
   "metadata": {},
   "source": [
    "## A propos des auteurs"
   ]
  },
  {
   "cell_type": "markdown",
   "metadata": {},
   "source": [
    "*Travail initié en 2016 dans le cadre d'une série de formations Python & C++ organisées par le réseau Devlog.  \n",
    "Auteurs principaux : David Chamont & Vincent Rouvreau.*"
   ]
  }
 ],
 "metadata": {
  "kernelspec": {
   "display_name": "ROOT Prompt",
   "language": "c++",
   "name": "root"
  },
  "language_info": {
   "codemirror_mode": {
    "name": "ipython",
    "version": 3
   },
   "file_extension": ".py",
   "mimetype": "text/x-python",
   "name": "python",
   "nbconvert_exporter": "python",
   "pygments_lexer": "ipython3",
   "version": "3.4.3"
  }
 },
 "nbformat": 4,
 "nbformat_minor": 0
}
