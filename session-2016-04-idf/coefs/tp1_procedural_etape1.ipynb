{
 "cells": [
  {
   "cell_type": "markdown",
   "metadata": {
    "slideshow": {
     "slide_type": "-"
    }
   },
   "source": [
    "*Ce notebook est distribué par Devlog sous licence Creative Commons - Attribution - Pas d’Utilisation Commerciale - Partage dans les Mêmes Conditions. La description complète de la license est disponible à l'adresse web http://creativecommons.org/licenses/by-nc-sa/4.0/.*"
   ]
  },
  {
   "cell_type": "markdown",
   "metadata": {
    "slideshow": {
     "slide_type": "slide"
    }
   },
   "source": [
    "# TP Coefs : Programmation Procédurale\n",
    "\n",
    "Tout nombre réel peut être approximé par le rapport entre deux nombres entiers. Pour simplifier les éventuels calculs, on décide que l'entier au dénominateur sera une puissance de deux. En effet, la multiplication ou la division d'un entier par une puissance de deux se réalise simplement en décalant les bits de l'entier vers la gauche ou vers la droite.\n",
    "\n",
    "On approximera donc tout réel r par une fraction\n",
    "$\n",
    "\\begin{equation} \n",
    "numerateur/2^{exposant}\n",
    "\\end{equation}\n",
    "$\n",
    ". Plus les valeurs de \n",
    "$\n",
    "\\begin{equation} \n",
    "numerateur\n",
    "\\end{equation}\n",
    "$\n",
    "et \n",
    "$\n",
    "\\begin{equation} \n",
    "exposant\n",
    "\\end{equation}\n",
    "$\n",
    "sont élevées, plus l'approximation peut-être précise. Par exemple, 0.65 peut être approximé successivement par \n",
    "$\n",
    "\\begin{equation} \n",
    "1/2^1 (0.5), 3/2^2 (0.75), 5/2^3 (0.625), ...\n",
    "\\end{equation}\n",
    "$\n",
    "On choisira donc les nombres les plus élevés possibles, dans les limites fixés par le système, c'est à dire par le nombre de bits disponibles pour coder ces nombres.\n",
    "\n",
    "Dans le cadre du TP, on va faire varier arbitrairement le nombre de bits autorisés pour stocker le numérateur, et calculer l'effet sur la précision de l'approximation. On notera que si on dispose de N bits pour stocker un entier, le plus grand entier possible est égal à \n",
    "$\n",
    "\\begin{equation} \n",
    "2^N-1.\n",
    "\\end{equation}\n",
    "$\n",
    "\n",
    "Pour amorcer le TP : comprenez, compilez et éxécutez le fichier ci-dessous. "
   ]
  },
  {
   "cell_type": "markdown",
   "metadata": {
    "slideshow": {
     "slide_type": "slide"
    }
   },
   "source": [
    "## 1) Ajout d'une boucle\n",
    "\n",
    "On veut approximer la valeur \n",
    "$\n",
    "\\begin{equation} \n",
    "0.65\n",
    "\\end{equation}\n",
    "$\n",
    "par le rapport d'un numérateur entier et d'une puissance de deux au dénominateur. Ecrivez un programme qui calcule la valeur du numérateur pour un dénominateur valant\n",
    "$\n",
    "\\begin{equation} \n",
    "2, 2^2, 2^3... 2^8\n",
    "\\end{equation}\n",
    "$\n",
    ". Afficher la valeur que l'on approxime, la valeur du numérateur, et la puissance de deux au dénuménateur :"
   ]
  },
  {
   "cell_type": "raw",
   "metadata": {},
   "source": [
    "0.65 ~ 1/2^1\n",
    "0.65 ~ 3/2^2\n",
    "0.65 ~ 5/2^3\n",
    "0.65 ~ 10/2^4\n",
    "0.65 ~ 21/2^5\n",
    "0.65 ~ 42/2^6\n",
    "0.65 ~ 83/2^7\n",
    "0.65 ~ 166/2^8"
   ]
  },
  {
   "cell_type": "markdown",
   "metadata": {},
   "source": [
    "**Fonctions utilitaires:**"
   ]
  },
  {
   "cell_type": "code",
   "execution_count": 1,
   "metadata": {
    "collapsed": false
   },
   "outputs": [],
   "source": [
    ".cpp -d\n",
    "void echec( unsigned int code, std::string commentaire )\n",
    " {\n",
    "  std::cout<<\"[ERREUR \"<<code<<\" : \"<<commentaire<<\"]\"<<std::endl ;\n",
    "  //exit(code) ;\n",
    " }\n",
    "\n",
    "// arrondi\n",
    "int arrondi( double d )\n",
    " {\n",
    "  if (d>0) { return int(d+.5) ; }\n",
    "  else { return int(d-.5) ; }\n",
    " }\n",
    "\n",
    "// multiplie \"nombre\" par 2 puissance \"exposant\"\n",
    "unsigned fois_puissance_de_deux( unsigned nombre, int exposant )\n",
    " {\n",
    "  while (exposant>0)\n",
    "   { nombre *= 2 ; exposant -= 1 ; }\n",
    "  while (exposant<0)\n",
    "   { nombre /= 2 ; exposant += 1 ; }\n",
    "  return nombre ; \n",
    " }\n",
    "\n",
    "// entier maximum representable avec \"nombre_bits\" bits\n",
    "unsigned entier_max( unsigned nombre_bits )\n",
    " { return (fois_puissance_de_deux(1,nombre_bits)-1) ; }\n"
   ]
  },
  {
   "cell_type": "markdown",
   "metadata": {},
   "source": [
    "**Programme principale:**"
   ]
  },
  {
   "cell_type": "code",
   "execution_count": 2,
   "metadata": {
    "collapsed": false
   },
   "outputs": [
    {
     "name": "stdout",
     "output_type": "stream",
     "text": [
      "MAX 4294967295\r\n",
      "[ERREUR 3 : entier_max(32)!=255]\r\n"
     ]
    }
   ],
   "source": [
    "//==============================================\n",
    "// fonction principale\n",
    "//==============================================\n",
    "\n",
    "// tests sur arrondi()\n",
    "if (arrondi(-0.75)!=-1) echec(1,\"arrondi(-0.75)!=-1\") ;\n",
    "if (arrondi(-0.25)!=0) echec(1,\"arrondi(-0.25)!=0\") ;\n",
    "if (arrondi(+0.25)!=0) echec(1,\"arrondi(0.25)!=0\") ;\n",
    "if (arrondi(+0.75)!=1) echec(1,\"arrondi(0.75)!=1\") ;\n",
    "\n",
    "// tests sur fois_puissance_de_deux()\n",
    "if (fois_puissance_de_deux(1,3)!=8) echec(2,\"fois_puissance_de_deux(1,3)!=8\") ;\n",
    "if (fois_puissance_de_deux(3,2)!=12) echec(2,\"fois_puissance_de_deux3,2)!=12\") ;\n",
    "if (fois_puissance_de_deux(10,-1)!=5) echec(2,\"fois_puissance_de_deux(10,-1)!=5\") ;\n",
    "   std::cout << \"MAX \" << entier_max(32) <<std::endl ;\n",
    "\n",
    "// tests sur entier_max()\n",
    "if (entier_max(8)!=255) echec(3,\"entier_max(8)!=255\") ;\n",
    "if (entier_max(16)!=65535) echec(3,\"entier_max(16)!=65535\") ;\n",
    "if (entier_max(32)!=255) echec(3,\"entier_max(32)!=255\") ;\n"
   ]
  },
  {
   "cell_type": "code",
   "execution_count": 1,
   "metadata": {
    "collapsed": false
   },
   "outputs": [
    {
     "ename": "TypeError",
     "evalue": "function takes exactly 5 arguments (1 given)",
     "output_type": "error",
     "traceback": [
      "Traceback (most recent call last):\n",
      "  File \"/usr/local/lib/python2.7/dist-packages/IPython/kernel/zmq/ipkernel.py\", line 181, in do_execute\n    shell.run_cell(code, store_history=store_history, silent=silent)\n",
      "  File \"/usr/local/lib/python2.7/dist-packages/IPython/core/interactiveshell.py\", line 2801, in run_cell\n    cell = self.input_transformer_manager.transform_cell(raw_cell)\n",
      "  File \"/usr/local/lib/python2.7/dist-packages/IPython/core/inputsplitter.py\", line 601, in transform_cell\n    self.reset()\n",
      "  File \"/usr/local/lib/python2.7/dist-packages/IPython/core/inputsplitter.py\", line 535, in reset\n    t.reset()\n",
      "  File \"/home/vincentrouvreau/workspace/root/lib/ROOTaaS/iPyROOT/cpptransformer.py\", line 91, in reset\n    utils.processCppCode(self.cell)\n",
      "  File \"/home/vincentrouvreau/workspace/root/lib/ROOTaaS/iPyROOT/utils.py\", line 157, in processCppCode\n    processCppCodeImpl(code)\n",
      "  File \"/home/vincentrouvreau/workspace/root/lib/ROOTaaS/iPyROOT/utils.py\", line 150, in processCppCodeImpl\n    ROOT.gInterpreter.ProcessLine(code)\n",
      "TypeError: function takes exactly 5 arguments (1 given)\n"
     ]
    }
   ],
   "source": [
    "//==============================================\n",
    "// fonction principale\n",
    "//==============================================\n",
    "\n",
    "// tests sur arrondi()\n",
    "if (arrondi(-0.75)!=-1) echec(1,\"arrondi(-0.75)!=-1\") ;\n",
    "if (arrondi(-0.25)!=0) echec(1,\"arrondi(-0.25)!=0\") ;\n",
    "if (arrondi(+0.25)!=0) echec(1,\"arrondi(0.25)!=0\") ;\n",
    "if (arrondi(+0.75)!=1) echec(1,\"arrondi(0.75)!=1\") ;\n",
    "\n",
    "// tests sur fois_puissance_de_deux()\n",
    "if (fois_puissance_de_deux(1,3)!=8) echec(2,\"fois_puissance_de_deux(1,3)!=8\") ;\n",
    "if (fois_puissance_de_deux(3,2)!=12) echec(2,\"fois_puissance_de_deux3,2)!=12\") ;\n",
    "if (fois_puissance_de_deux(10,-1)!=5) echec(2,\"fois_puissance_de_deux(10,-1)!=5\") ;\n",
    "   std::cout << \"MAX \" << entier_max(32) <<std::endl ;\n",
    "\n",
    "// tests sur entier_max()\n",
    "if (entier_max(8)!=255) echec(3,\"entier_max(8)!=255\") ;\n",
    "if (entier_max(16)!=65535) echec(3,\"entier_max(16)!=65535\") ;\n",
    "if (entier_max(32)!=255) echec(3,\"entier_max(32)!=255\") ;\n",
    "  \n",
    "// approximation de 0.65 par num1/2^1\n",
    "int num1 = arrondi(0.65*fois_puissance_de_deux(1,1))  ;\n",
    "std::cout << \"0.65 ~ \" << num1 << \"/2^1 (\" << num1/2. << \")\" <<std::endl ;\n",
    "  \n",
    "// approximation de 0.65 par num2/2^2\n",
    "int num2 = arrondi(0.65*fois_puissance_de_deux(1,2))  ;\n",
    "std::cout << \"0.65 ~ \" << num2 << \"/2^2 (\" << num2/4. << \")\" <<std::endl ;\n",
    "  \n",
    "// approximation de 0.65 par num3/2^3\n",
    "int num3 = arrondi(0.65*fois_puissance_de_deux(1,3))  ;\n",
    "std::cout << \"0.65 ~ \" << num3 << \"/2^3 (\" << num3/8. << \")\" <<std::endl ;\n",
    "  \n",
    "std::cout << std::endl ;\n",
    "  \n",
    "// calcul de 0.65*3515 en utilisant les approximations\n",
    "// de 0.65 ci-dessus, et des calculs à bases d'entiers,\n",
    "// via la fonction fois_puissance_de_deux().\n",
    "std::cout << \"0.65*3515 ~ \" << fois_puissance_de_deux(num1*3515,-1) << std::endl ;\n",
    "std::cout << \"0.65*3515 ~ \" << fois_puissance_de_deux(num2*3515,-2) << std::endl ;\n",
    "std::cout << \"0.65*3515 ~ \" << fois_puissance_de_deux(num3*3515,-3) << std::endl ;\n",
    "    \n",
    "// calcul de 0.65*3515 en utilisant des flottants\n",
    "std::cout << \"0.65*3515 = \" << arrondi(0.65*3515) << std::endl ;\n",
    "std::cout << std::endl ;"
   ]
  },
  {
   "cell_type": "markdown",
   "metadata": {},
   "source": [
    "## A propos des auteurs"
   ]
  },
  {
   "cell_type": "markdown",
   "metadata": {},
   "source": [
    "*Travail initié en 2016 dans le cadre d'une série de formations Python & C++ organisées par le réseau Devlog.  \n",
    "Auteurs principaux : David Chamont & Vincent Rouvreau.*"
   ]
  }
 ],
 "metadata": {
  "kernelspec": {
   "display_name": "ROOT Prompt",
   "language": "c++",
   "name": "root"
  },
  "language_info": {
   "codemirror_mode": {
    "name": "ipython",
    "version": 2
   },
   "file_extension": ".py",
   "mimetype": "text/x-python",
   "name": "python",
   "nbconvert_exporter": "python",
   "pygments_lexer": "ipython2",
   "version": "2.7.6"
  }
 },
 "nbformat": 4,
 "nbformat_minor": 0
}
